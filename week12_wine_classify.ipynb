{
  "nbformat": 4,
  "nbformat_minor": 0,
  "metadata": {
    "colab": {
      "provenance": [],
      "gpuType": "T4",
      "mount_file_id": "1nyVoTzdwpZqBamTUvoZPibCxOy9fULG1",
      "authorship_tag": "ABX9TyMHCggI4jxKoIvmnVcL28A+",
      "include_colab_link": true
    },
    "kernelspec": {
      "name": "python3",
      "display_name": "Python 3"
    },
    "language_info": {
      "name": "python"
    },
    "accelerator": "GPU"
  },
  "cells": [
    {
      "cell_type": "markdown",
      "metadata": {
        "id": "view-in-github",
        "colab_type": "text"
      },
      "source": [
        "<a href=\"https://colab.research.google.com/github/LEEYOENN/ArtificialNeural-Network-Deep-Learning/blob/main/week12_wine_classify.ipynb\" target=\"_parent\"><img src=\"https://colab.research.google.com/assets/colab-badge.svg\" alt=\"Open In Colab\"/></a>"
      ]
    },
    {
      "cell_type": "code",
      "execution_count": null,
      "metadata": {
        "id": "_6554BY2kcxY"
      },
      "outputs": [],
      "source": [
        "import pandas as pd\n",
        "import numpy as np\n",
        "\n",
        "\n",
        "df = pd.read_csv('/content/drive/MyDrive/DeepLearning/wine.csv', header =None)\n",
        "\n",
        "df\n",
        "df.info()\n"
      ]
    },
    {
      "cell_type": "code",
      "source": [
        "x = df.iloc[:,0:12]\n",
        "y = df.iloc[:,12]\n",
        "\n",
        "y.head(3)"
      ],
      "metadata": {
        "id": "EZTe4gKLmNOC"
      },
      "execution_count": null,
      "outputs": []
    },
    {
      "cell_type": "code",
      "source": [
        "import tensorflow\n",
        "from tensorflow import keras\n",
        "from keras import Sequential, Input\n",
        "from keras.layers import Dense\n",
        "from sklearn.model_selection import train_test_split"
      ],
      "metadata": {
        "id": "XttLiA-Cndqp"
      },
      "execution_count": null,
      "outputs": []
    },
    {
      "cell_type": "code",
      "source": [
        "x_train, x_test, y_train, y_test = train_test_split(x,y,\n",
        "                                                    test_size=0.2,\n",
        "                                                    random_state=42)\n",
        "def build_model() :\n",
        "  model = Sequential()\n",
        "  model.add(Input(shape=(12,)))\n",
        "  model.add(Dense(30, activation='relu'))\n",
        "  model.add(Dense(12, activation='relu'))\n",
        "  model.add(Dense(8, activation='relu'))\n",
        "  model.add(Dense(1, activation='sigmoid'))\n",
        "  return model\n",
        "model = build_model()\n",
        "model.summary()"
      ],
      "metadata": {
        "id": "8kigLfCRn6bN"
      },
      "execution_count": null,
      "outputs": []
    },
    {
      "cell_type": "code",
      "source": [
        "model.compile(loss=\"binary_crossentropy\",\n",
        "              optimizer=\"adam\",\n",
        "              metrics=[\"accuracy\"])\n",
        "\n",
        "history = model.fit(x_train, y_train,\n",
        "                    epochs=50, batch_size=500,\n",
        "                    validation_split=0.25, verbose=2)"
      ],
      "metadata": {
        "id": "_O-lkaf8p3_x"
      },
      "execution_count": null,
      "outputs": []
    },
    {
      "cell_type": "code",
      "source": [
        "h_df = pd.DataFrame(history.history)\n",
        "\n",
        "h_df\n"
      ],
      "metadata": {
        "id": "Qhb2ZyghrG1w"
      },
      "execution_count": null,
      "outputs": []
    },
    {
      "cell_type": "code",
      "source": [
        "import matplotlib.pyplot as plt\n",
        "\n",
        "plt.figure()\n",
        "plt.plot(h_df[\"loss\"], 'o', c=\"red\")\n",
        "plt.plot(h_df[\"val_loss\"], 'o', c=\"blue\")"
      ],
      "metadata": {
        "colab": {
          "base_uri": "https://localhost:8080/",
          "height": 448
        },
        "id": "hI4Oiy4Crc_t",
        "outputId": "be2e8e24-4695-4aea-8477-f3749bcaa456"
      },
      "execution_count": null,
      "outputs": [
        {
          "output_type": "execute_result",
          "data": {
            "text/plain": [
              "[<matplotlib.lines.Line2D at 0x79e7623705b0>]"
            ]
          },
          "metadata": {},
          "execution_count": 35
        },
        {
          "output_type": "display_data",
          "data": {
            "text/plain": [
              "<Figure size 640x480 with 1 Axes>"
            ],
            "image/png": "[encoded data removed]"
          },
          "metadata": {}
        }
      ]
    },
    {
      "cell_type": "code",
      "source": [],
      "metadata": {
        "id": "DgivU7RitlBi"
      },
      "execution_count": null,
      "outputs": []
    },
    {
      "cell_type": "code",
      "source": [
        "##콜백\n",
        "# 1. Model Checkpoint -> 매 epoch마다 자동으로 모델을 저장해주는 콜백\n",
        "# 2. Early Stopping -> 학습의 조기 종룔르 수행해 주는 콜백\n",
        "\n",
        "FilePath= '/content/model/{epoch:02d}--{val_accuracy:.4f}.hdf5'\n",
        "from keras.callbacks import ModelCheckpoint\n",
        "mc = ModelCheckpoint(filepath=FilePath, verbose=1)\n"
      ],
      "metadata": {
        "id": "4zleqI0rso5p"
      },
      "execution_count": null,
      "outputs": []
    },
    {
      "cell_type": "code",
      "source": [
        "del model\n",
        "\n",
        "model = build_model()\n",
        "\n",
        "model.compile(loss=\"binary_crossentropy\",\n",
        "              optimizer=\"adam\",\n",
        "              metrics=[\"accuracy\"])\n",
        "\n",
        "history = model.fit(x_train, y_train,\n",
        "                    epochs=50, batch_size=500,\n",
        "                    validation_split=0.25, verbose=2, callbacks=[mc])"
      ],
      "metadata": {
        "id": "eOwb5G19uWNN"
      },
      "execution_count": null,
      "outputs": []
    },
    {
      "cell_type": "code",
      "source": [
        "model.compile(loss=\"binary_crossentropy\",\n",
        "              optimizer=\"adam\",\n",
        "              metrics=[\"accuracy\"])\n",
        "\n",
        "history = model.fit(x_train, y_train,\n",
        "                    epochs=2000, batch_size=500,\n",
        "                    validation_split=0.25, verbose=0)"
      ],
      "metadata": {
        "id": "SvakZBNZvhqL"
      },
      "execution_count": null,
      "outputs": []
    },
    {
      "cell_type": "code",
      "source": [
        "h_df = pd.DataFrame(history.history)\n",
        "\n",
        "h_df\n"
      ],
      "metadata": {
        "id": "yizSJbKn00NU"
      },
      "execution_count": null,
      "outputs": []
    },
    {
      "cell_type": "code",
      "source": [
        "\n",
        "plt.figure()\n",
        "plt.plot(h_df[\"loss\"], 'o', c=\"red\", label=\"train\", markersize=1)\n",
        "plt.plot(h_df[\"val_loss\"], 'o', c=\"blue\", label='validation', markersize=1)\n",
        "plt.grid(True)\n",
        "plt.legend()\n",
        "plt.show()"
      ],
      "metadata": {
        "id": "uev2-_Ta1lt2"
      },
      "execution_count": null,
      "outputs": []
    },
    {
      "cell_type": "code",
      "source": [
        "#Early Stopping callback(조기 종)\n",
        "from keras.callbacks import EarlyStopping\n",
        "\n"
      ],
      "metadata": {
        "id": "pSkT4EuV27UK"
      },
      "execution_count": null,
      "outputs": []
    },
    {
      "cell_type": "code",
      "source": [
        "del model\n",
        "\n",
        "model = build_model()\n",
        "es = EarlyStopping(monitor=\"val_loss\", patience=20)\n",
        "mc = ModelCheckpoint(filepath='best-model.hdf5', save_best_only=True, verbose=0)\n",
        "\n",
        "model.compile(loss=\"binary_crossentropy\",\n",
        "              optimizer=\"adam\",\n",
        "              metrics=[\"accuracy\"])\n",
        "\n",
        "history = model.fit(x_train, y_train,\n",
        "                    epochs=2000, batch_size=500,\n",
        "                    validation_split=0.25, verbose=2, callbacks=[mc, es])"
      ],
      "metadata": {
        "id": "r8kNIFR931I_"
      },
      "execution_count": null,
      "outputs": []
    },
    {
      "cell_type": "code",
      "source": [
        "h_df = pd.DataFrame(history.history)\n",
        "\n",
        "print(h_df)\n",
        "\n",
        "\n",
        "plt.figure()\n",
        "plt.scatter(range(len(h_df[\"loss\"][10:])), h_df[\"loss\"][10:],  c=\"red\", label=\"train\", s=3)\n",
        "plt.scatter(range(len(h_df[\"val_loss\"][10:])),h_df[\"val_loss\"][10:],  c=\"blue\", label='validation',s=3)\n",
        "plt.grid(True)\n",
        "plt.legend(loc=\"upper right\")\n",
        "plt.show()"
      ],
      "metadata": {
        "id": "D5BgVaba4yRO"
      },
      "execution_count": null,
      "outputs": []
    }
  ]
}