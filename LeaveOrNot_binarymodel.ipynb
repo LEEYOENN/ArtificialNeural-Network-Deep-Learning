{
  "cells": [
    {
      "cell_type": "code",
      "execution_count": null,
      "metadata": {
        "id": "IRptGQm6CKbf"
      },
      "outputs": [],
      "source": [
        "import pandas as pd\n",
        "\n",
        "df = pd.read_csv(\"/content/drive/MyDrive/DeepLearning/train.csv\")\n",
        "df.head(4)"
      ]
    },
    {
      "cell_type": "code",
      "execution_count": null,
      "metadata": {
        "colab": {
          "base_uri": "https://localhost:8080/",
          "height": 54
        },
        "id": "G6hTLkOjO4tO",
        "outputId": "bfb1471b-5c45-4f2c-db91-d44144e975d4"
      },
      "outputs": [
        {
          "data": {
            "text/plain": [
              "<Figure size 640x480 with 0 Axes>"
            ]
          },
          "execution_count": 12,
          "metadata": {},
          "output_type": "execute_result"
        },
        {
          "data": {
            "text/plain": [
              "<Figure size 640x480 with 0 Axes>"
            ]
          },
          "metadata": {},
          "output_type": "display_data"
        }
      ],
      "source": [
        "import seaborn as sns\n",
        "import matplotlib.pyplot as plt\n",
        "\n",
        "plt.figure()"
      ]
    },
    {
      "cell_type": "code",
      "execution_count": null,
      "metadata": {
        "colab": {
          "base_uri": "https://localhost:8080/"
        },
        "id": "y2aEedQuCWy5",
        "outputId": "1ce4bbff-2970-415b-c2c8-86330c8bdc68"
      },
      "outputs": [
        {
          "name": "stdout",
          "output_type": "stream",
          "text": [
            "['Education', 'JoiningYear', 'City', 'PaymentTier', 'Age', 'Gender', 'EverBenched', 'ExperienceInCurrentDomain', 'LeaveOrNot']\n",
            "['Education', 'JoiningYear', 'City', 'PaymentTier', 'Age', 'Gender', 'EverBenched', 'ExperienceInCurrentDomain']\n"
          ]
        }
      ],
      "source": [
        "print(list(df.columns))\n",
        "print(list(df[df.columns[0:8]]))\n",
        "\n",
        "y = df['LeaveOrNot']\n",
        "#one hot encoding\n",
        "\n"
      ]
    },
    {
      "cell_type": "code",
      "execution_count": null,
      "metadata": {
        "id": "RVTJjawARsB3"
      },
      "outputs": [],
      "source": [
        "df2= pd.get_dummies(df)\n",
        "\n",
        "df2.corr(method='pearson')\n",
        "\n",
        "# plt.rcParams[\"figure.figsize\"]=(15,15)\n",
        "# sns.heatmap(df2.corr(),\n",
        "#             annot=True,\n",
        "#             cmap='Greens',\n",
        "#             vmin=-1,vmax=1)\n",
        "\n",
        "x = pd.get_dummies(df2.drop(['LeaveOrNot','ExperienceInCurrentDomain','Age','Education_PHD'], axis=1))\n",
        "x"
      ]
    },
    {
      "cell_type": "code",
      "execution_count": null,
      "metadata": {
        "id": "MBE9nVilCb_E"
      },
      "outputs": [],
      "source": [
        "\n",
        "import tensorflow\n",
        "from tensorflow import keras\n",
        "from keras import Sequential, Input\n",
        "from keras.layers import Dense\n"
      ]
    },
    {
      "cell_type": "code",
      "execution_count": null,
      "metadata": {
        "id": "yzgv3XihChXe"
      },
      "outputs": [],
      "source": [
        "from sklearn.model_selection import KFold\n",
        "\n",
        "k = 5\n",
        "\n",
        "model = Sequential()\n",
        "model.add(Input(shape=(11, )))\n",
        "model.add(Dense(10, activation = 'relu'))\n",
        "model.add(Dense(30, activation = 'relu'))\n",
        "model.add(Dense(40, activation = 'relu'))\n",
        "model.add(Dense(1, activation=\"sigmoid\"))\n",
        "model.compile(loss='binary_crossentropy', optimizer='adam', metrics=[\"accuracy\"])"
      ]
    },
    {
      "cell_type": "code",
      "execution_count": null,
      "metadata": {
        "id": "W7vgjeyoDsPJ"
      },
      "outputs": [],
      "source": [
        "# cv = KFold(n_splits = k, shuffle=True)\n",
        "# acc_list = []\n",
        "# for train_index, test_index in cv.split(x) :\n",
        "#   x_train = x.iloc[train_index,:]\n",
        "#   x_test = x.iloc[test_index,:]\n",
        "\n",
        "#   y_train = y.iloc[train_index]\n",
        "#   y_test = y.iloc[test_index]\n",
        "\n",
        "#   model.compile(loss='binary_crossentropy', optimizer='adam', metrics=[\"accuracy\"])\n",
        "#   history = model.fit(x_train,y_train, epochs=100, batch_size=1500, validation_split=0.2, verbose=0)\n",
        "\n",
        "#   acc_list.append(100 * model.evaluate(x_test, y_test, verbose=2)[1])\n",
        "#   score = model.evaluate(x_test, y_test)\n",
        "#   print(\"Test Accuracy: %.2f%%\" % (score[1] * 100))"
      ]
    },
    {
      "cell_type": "code",
      "execution_count": null,
      "metadata": {
        "id": "VND79MA47GfL"
      },
      "outputs": [],
      "source": [
        "from keras.models import load_model"
      ]
    },
    {
      "cell_type": "code",
      "execution_count": null,
      "metadata": {
        "id": "yEbPBTVF7Mqy"
      },
      "outputs": [],
      "source": [
        "#model = load_model('/content/best_model.hdf5')"
      ]
    },
    {
      "cell_type": "code",
      "execution_count": null,
      "metadata": {
        "id": "qcgHqzUbLGbc"
      },
      "outputs": [],
      "source": [
        "model.summary()"
      ]
    },
    {
      "cell_type": "code",
      "execution_count": null,
      "metadata": {
        "id": "FAnzH9uRtJlr"
      },
      "outputs": [],
      "source": [
        "from keras.callbacks import EarlyStopping\n",
        "early_stopping_callback = EarlyStopping(monitor='val_loss', patience=20)\n"
      ]
    },
    {
      "cell_type": "code",
      "execution_count": null,
      "metadata": {
        "colab": {
          "base_uri": "https://localhost:8080/"
        },
        "id": "e32Q64ab7U_s",
        "outputId": "433f8191-b7b8-46d9-8fc8-2d1d006213bf"
      },
      "outputs": [
        {
          "output_type": "stream",
          "name": "stderr",
          "text": [
            "/usr/local/lib/python3.10/dist-packages/keras/src/engine/training.py:3079: UserWarning: You are saving your model as an HDF5 file via `model.save()`. This file format is considered legacy. We recommend using instead the native Keras format, e.g. `model.save('my_model.keras')`.\n",
            "  saving_api.save_model(\n"
          ]
        },
        {
          "output_type": "stream",
          "name": "stdout",
          "text": [
            "24/24 - 0s - loss: 0.5372 - accuracy: 0.7329 - 127ms/epoch - 5ms/step\n",
            "24/24 [==============================] - 0s 5ms/step - loss: 0.5372 - accuracy: 0.7329\n",
            "Test Accuracy: 73.29%\n"
          ]
        },
        {
          "output_type": "stream",
          "name": "stderr",
          "text": [
            "/usr/local/lib/python3.10/dist-packages/keras/src/engine/training.py:3079: UserWarning: You are saving your model as an HDF5 file via `model.save()`. This file format is considered legacy. We recommend using instead the native Keras format, e.g. `model.save('my_model.keras')`.\n",
            "  saving_api.save_model(\n"
          ]
        },
        {
          "output_type": "stream",
          "name": "stdout",
          "text": [
            "24/24 - 0s - loss: 0.5222 - accuracy: 0.7530 - 70ms/epoch - 3ms/step\n",
            "24/24 [==============================] - 0s 3ms/step - loss: 0.5222 - accuracy: 0.7530\n",
            "Test Accuracy: 75.30%\n"
          ]
        },
        {
          "output_type": "stream",
          "name": "stderr",
          "text": [
            "/usr/local/lib/python3.10/dist-packages/keras/src/engine/training.py:3079: UserWarning: You are saving your model as an HDF5 file via `model.save()`. This file format is considered legacy. We recommend using instead the native Keras format, e.g. `model.save('my_model.keras')`.\n",
            "  saving_api.save_model(\n"
          ]
        },
        {
          "output_type": "stream",
          "name": "stdout",
          "text": [
            "24/24 - 0s - loss: 0.5343 - accuracy: 0.7500 - 91ms/epoch - 4ms/step\n",
            "24/24 [==============================] - 0s 3ms/step - loss: 0.5343 - accuracy: 0.7500\n",
            "Test Accuracy: 75.00%\n",
            "24/24 - 0s - loss: 0.5350 - accuracy: 0.7433 - 99ms/epoch - 4ms/step\n",
            "24/24 [==============================] - 0s 4ms/step - loss: 0.5350 - accuracy: 0.7433\n",
            "Test Accuracy: 74.33%\n",
            "24/24 - 0s - loss: 0.5318 - accuracy: 0.7581 - 67ms/epoch - 3ms/step\n",
            "24/24 [==============================] - 0s 2ms/step - loss: 0.5318 - accuracy: 0.7581\n",
            "Test Accuracy: 75.81%\n",
            "74.74500179290771\n",
            "24/24 - 0s - loss: 0.5737 - accuracy: 0.7235 - 91ms/epoch - 4ms/step\n",
            "24/24 [==============================] - 0s 4ms/step - loss: 0.5737 - accuracy: 0.7235\n",
            "Test Accuracy: 72.35%\n"
          ]
        },
        {
          "output_type": "stream",
          "name": "stderr",
          "text": [
            "/usr/local/lib/python3.10/dist-packages/keras/src/engine/training.py:3079: UserWarning: You are saving your model as an HDF5 file via `model.save()`. This file format is considered legacy. We recommend using instead the native Keras format, e.g. `model.save('my_model.keras')`.\n",
            "  saving_api.save_model(\n"
          ]
        },
        {
          "output_type": "stream",
          "name": "stdout",
          "text": [
            "24/24 - 0s - loss: 0.5311 - accuracy: 0.7490 - 63ms/epoch - 3ms/step\n",
            "24/24 [==============================] - 0s 2ms/step - loss: 0.5311 - accuracy: 0.7490\n",
            "Test Accuracy: 74.90%\n",
            "24/24 - 0s - loss: 0.5142 - accuracy: 0.7379 - 98ms/epoch - 4ms/step\n",
            "24/24 [==============================] - 0s 3ms/step - loss: 0.5142 - accuracy: 0.7379\n",
            "Test Accuracy: 73.79%\n"
          ]
        },
        {
          "output_type": "stream",
          "name": "stderr",
          "text": [
            "/usr/local/lib/python3.10/dist-packages/keras/src/engine/training.py:3079: UserWarning: You are saving your model as an HDF5 file via `model.save()`. This file format is considered legacy. We recommend using instead the native Keras format, e.g. `model.save('my_model.keras')`.\n",
            "  saving_api.save_model(\n"
          ]
        },
        {
          "output_type": "stream",
          "name": "stdout",
          "text": [
            "24/24 - 0s - loss: 0.5376 - accuracy: 0.7325 - 64ms/epoch - 3ms/step\n",
            "24/24 [==============================] - 0s 3ms/step - loss: 0.5376 - accuracy: 0.7325\n",
            "Test Accuracy: 73.25%\n",
            "24/24 - 0s - loss: 0.5090 - accuracy: 0.7634 - 62ms/epoch - 3ms/step\n",
            "24/24 [==============================] - 0s 2ms/step - loss: 0.5090 - accuracy: 0.7634\n",
            "Test Accuracy: 76.34%\n",
            "74.12708401679993\n"
          ]
        }
      ],
      "source": [
        "cv = KFold(n_splits = k, shuffle=True)\n",
        "\n",
        "\n",
        "modelpath = \"best_model.hdf5\"\n",
        "from keras.callbacks import ModelCheckpoint\n",
        "checkpointer = ModelCheckpoint(filepath=modelpath,\n",
        "                               monitor='val_loss',verbose=0, save_best_only=True)\n",
        "for i in range(2):\n",
        "  acc_list = []\n",
        "  for train_index, test_index in cv.split(x) :\n",
        "    x_train = x.iloc[train_index,:]\n",
        "    x_test = x.iloc[test_index,:]\n",
        "\n",
        "    y_train = y.iloc[train_index]\n",
        "    y_test = y.iloc[test_index]\n",
        "\n",
        "\n",
        "    history = model.fit(x_train, y_train, epochs=2000, batch_size=35, validation_split=0.25, verbose=0, callbacks=[early_stopping_callback, checkpointer])\n",
        "\n",
        "    acc_list.append(100 * model.evaluate(x_test, y_test, verbose=2)[1])\n",
        "    score = model.evaluate(x_test, y_test)\n",
        "    print(\"Test Accuracy: %.2f%%\" % (score[1] * 100))\n",
        "  print(sum(acc_list)/5)"
      ]
    },
    {
      "cell_type": "code",
      "execution_count": null,
      "metadata": {
        "id": "ACrLgXrKqrDP"
      },
      "outputs": [],
      "source": [
        "hist_df = pd.DataFrame(history.history)\n",
        "hist_df\n",
        "\n",
        "y_loss = hist_df[\"loss\"]\n",
        "y_vloss = hist_df[\"val_loss\"]"
      ]
    },
    {
      "cell_type": "code",
      "execution_count": null,
      "metadata": {
        "id": "ShsgwiriphqY"
      },
      "outputs": [],
      "source": [
        "##학습셋에서 얻은 오차는 파란색으로, 검증셋에서 얻은 오차는 빨간색으로 표시\n",
        "import numpy as np\n",
        "x_len = np.arange(len(y_loss)-7)\n",
        "plt.figure()\n",
        "plt.plot(x_len, y_loss[7:], 'o', c='blue', markersize=2, label='Training')\n",
        "plt.plot(x_len, y_vloss[7:], 'o', c='red', markersize=2, label='Validation')\n",
        "plt.legend(loc='upper right')\n",
        "plt.xlabel('epoch')\n",
        "plt.ylabel('loss')\n",
        "plt.grid(True)\n",
        "plt.show()"
      ]
    },
    {
      "cell_type": "code",
      "execution_count": null,
      "metadata": {
        "id": "XveN5GavfAEf"
      },
      "outputs": [],
      "source": [
        "model.save('my_model_.hdf5')"
      ]
    },
    {
      "cell_type": "code",
      "execution_count": null,
      "metadata": {
        "colab": {
          "base_uri": "https://localhost:8080/"
        },
        "id": "3Ejifu15Dyra",
        "outputId": "e46e717d-76f2-4c6c-afd7-2ba86d47dc10"
      },
      "outputs": [
        {
          "name": "stdout",
          "output_type": "stream",
          "text": [
            "30/30 [==============================] - 0s 2ms/step\n",
            "[0, 0, 0, 0, 0, 0, 0, 0, 0, 0, 0, 0, 0, 0, 0, 0, 0, 0, 0, 0, 0, 0, 0, 0, 0, 0, 0, 0, 0, 0, 0, 0, 0, 0, 0, 0, 0, 0, 0, 0, 0, 0, 0, 0, 0, 0, 0, 0, 0, 0, 0, 0, 0, 0, 0, 0, 0, 0, 0, 0, 0, 0, 0, 0, 0, 0, 0, 0, 0, 0, 0, 0, 0, 0, 0, 0, 0, 0, 0, 0, 0, 0, 0, 0, 0, 0, 0, 0, 0, 0, 0, 0, 0, 0, 0, 0, 0, 0, 0, 0, 0, 0, 0, 0, 0, 0, 0, 0, 0, 0, 0, 0, 0, 0, 0, 0, 0, 0, 0, 0, 0, 0, 0, 0, 0, 0, 0, 0, 0, 0, 0, 0, 0, 0, 0, 0, 0, 0, 0, 0, 0, 0, 0, 0, 0, 0, 0, 0, 0, 0, 0, 0, 0, 0, 0, 0, 0, 0, 0, 0, 0, 0, 0, 0, 0, 0, 0, 0, 0, 0, 0, 0, 0, 0, 0, 0, 0, 0, 0, 0, 0, 0, 0, 0, 0, 0, 0, 0, 0, 0, 0, 0, 0, 0, 0, 0, 0, 0, 0, 0, 0, 0, 0, 0, 0, 0, 0, 0, 0, 0, 0, 0, 0, 0, 0, 0, 0, 0, 0, 0, 0, 0, 0, 0, 0, 0, 0, 0, 0, 0, 0, 0, 0, 0, 0, 0, 0, 0, 0, 0, 0, 0, 0, 0, 0, 0, 0, 0, 0, 0, 0, 0, 0, 0, 0, 0, 0, 0, 0, 0, 0, 0, 0, 0, 0, 0, 0, 0, 0, 0, 0, 0, 0, 0, 0, 0, 0, 0, 0, 0, 0, 0, 0, 0, 0, 0, 0, 0, 0, 0, 0, 0, 0, 0, 0, 0, 0, 0, 0, 0, 0, 0, 0, 0, 0, 0, 0, 0, 0, 0, 0, 0, 0, 0, 0, 0, 0, 0, 0, 0, 0, 0, 0, 0, 0, 0, 0, 0, 0, 0, 0, 0, 0, 0, 0, 0, 0, 0, 0, 0, 0, 0, 0, 0, 0, 0, 0, 0, 0, 0, 0, 0, 0, 0, 0, 0, 0, 0, 0, 0, 0, 0, 0, 0, 0, 0, 0, 0, 0, 0, 0, 0, 0, 0, 0, 0, 0, 0, 0, 0, 0, 0, 0, 0, 0, 0, 0, 0, 0, 0, 0, 0, 0, 0, 0, 0, 0, 0, 0, 0, 0, 0, 0, 0, 0, 0, 0, 0, 0, 0, 0, 0, 0, 0, 0, 0, 0, 0, 0, 0, 0, 0, 0, 0, 0, 0, 0, 0, 0, 0, 0, 0, 0, 0, 0, 0, 0, 0, 0, 0, 0, 0, 0, 0, 0, 0, 0, 0, 0, 0, 0, 0, 0, 0, 0, 0, 0, 0, 0, 0, 0, 0, 0, 0, 0, 0, 0, 0, 0, 0, 0, 0, 0, 0, 0, 0, 0, 0, 0, 0, 0, 0, 0, 0, 0, 0, 0, 0, 0, 0, 0, 0, 0, 0, 0, 0, 0, 0, 0, 0, 0, 0, 0, 0, 0, 0, 0, 0, 0, 0, 0, 0, 0, 0, 0, 0, 0, 0, 0, 0, 0, 0, 0, 0, 0, 0, 0, 0, 0, 0, 0, 0, 0, 0, 0, 0, 0, 0, 0, 0, 0, 0, 0, 0, 0, 0, 0, 0, 0, 0, 0, 0, 0, 0, 0, 0, 0, 0, 0, 0, 0, 0, 0, 0, 0, 0, 0, 0, 0, 0, 0, 0, 0, 0, 0, 0, 0, 0, 0, 0, 0, 0, 0, 0, 0, 0, 0, 0, 0, 0, 0, 0, 0, 0, 0, 0, 0, 0, 0, 0, 0, 0, 0, 0, 0, 0, 0, 0, 0, 0, 0, 0, 0, 0, 0, 0, 0, 0, 0, 0, 0, 0, 0, 0, 0, 0, 0, 0, 0, 0, 0, 0, 0, 0, 0, 0, 0, 0, 0, 0, 0, 0, 0, 0, 0, 0, 0, 0, 0, 0, 0, 0, 0, 0, 0, 0, 0, 0, 0, 0, 0, 0, 0, 0, 0, 0, 0, 0, 0, 0, 0, 0, 0, 0, 0, 0, 0, 0, 0, 0, 0, 0, 0, 0, 0, 0, 0, 0, 0, 0, 0, 0, 0, 0, 0, 0, 0, 0, 0, 0, 0, 0, 0, 0, 0, 0, 0, 0, 0, 0, 0, 0, 0, 0, 0, 0, 0, 0, 0, 0, 0, 0, 0, 0, 0, 0, 0, 0, 0, 0, 0, 0, 0, 0, 0, 0, 0, 0, 0, 0, 0, 0, 0, 0, 0, 0, 0, 0, 0, 0, 0, 0, 0, 0, 0, 0, 0, 0, 0, 0, 0, 0, 0, 0, 0, 0, 0, 0, 0, 0, 0, 0, 0, 0, 0, 0, 0, 0, 0, 0, 0, 0, 0, 0, 0, 0, 0, 0, 0, 0, 0, 0, 0, 0, 0, 0, 0, 0, 0, 0, 0, 0, 0, 0, 0, 0, 0, 0, 0, 0, 0, 0, 0, 0, 0, 0, 0, 0, 0, 0, 0, 0, 0, 0, 0, 0, 0, 0, 0, 0, 0, 0, 0, 0, 0, 0, 0, 0, 0, 0, 0, 0, 0, 0, 0, 0, 0, 0, 0, 0, 0, 0, 0, 0, 0, 0, 0, 0, 0, 0, 0, 0, 0, 0, 0, 0, 0, 0, 0, 0, 0, 0, 0, 0, 0, 0, 0, 0, 0, 0, 0, 0, 0, 0, 0, 0, 0, 0, 0, 0, 0, 0, 0, 0, 0, 0, 0, 0, 0, 0, 0, 0, 0, 0, 0, 0, 0, 0, 0, 0, 0, 0, 0, 0, 0, 0, 0, 0, 0, 0, 0, 0, 0, 0, 0, 0, 0, 0, 0, 0, 0]\n"
          ]
        }
      ],
      "source": [
        "\n",
        "df_test = pd.read_csv(\"/content/drive/MyDrive/DeepLearning/test.csv\")\n",
        "df_test = pd.get_dummies(df_test)\n",
        "x_test= pd.get_dummies(df_test.drop(['ExperienceInCurrentDomain','Age','Education_PHD'], axis=1))\n",
        "\n",
        "y_pred = model.predict(x_test)\n",
        "\n",
        "ans =[]\n",
        "for i in y_pred :\n",
        "  if i >= 0.5 :\n",
        "    ans.append(1)\n",
        "  elif i < 0.5 :\n",
        "    ans.append(0)\n",
        "\n",
        "print(ans)"
      ]
    },
    {
      "cell_type": "code",
      "execution_count": null,
      "metadata": {
        "id": "iGRjEHcHRgeX"
      },
      "outputs": [],
      "source": [
        "with open(\"answer.txt\", 'w') as f :\n",
        "  for i in ans:\n",
        "    f.write(\"%d\\n\"%i)"
      ]
    }
  ],
  "metadata": {
    "accelerator": "GPU",
    "colab": {
      "provenance": []
    },
    "kernelspec": {
      "display_name": "Python 3",
      "name": "python3"
    },
    "language_info": {
      "name": "python"
    }
  },
  "nbformat": 4,
  "nbformat_minor": 0
}